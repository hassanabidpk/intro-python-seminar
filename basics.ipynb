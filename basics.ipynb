{
 "cells": [
  {
   "cell_type": "code",
   "execution_count": null,
   "metadata": {},
   "outputs": [],
   "source": [
    "# Data Types \n",
    "\n",
    "# 1. Integer \n",
    "\n",
    "number_int = 1\n",
    "print(type(number_int))"
   ]
  },
  {
   "cell_type": "code",
   "execution_count": 4,
   "metadata": {},
   "outputs": [
    {
     "name": "stdout",
     "output_type": "stream",
     "text": [
      "<class 'float'>\n"
     ]
    }
   ],
   "source": [
    "# 2. Float \n",
    "number_float = 7.5 \n",
    "print(type(number_float))"
   ]
  },
  {
   "cell_type": "code",
   "execution_count": 26,
   "metadata": {},
   "outputs": [
    {
     "name": "stdout",
     "output_type": "stream",
     "text": [
      "<class 'str'>\n",
      "HELLO python\n",
      "['HELLO', 'python']\n",
      "p, y, t, h, o, n\n",
      "python\n",
      "py\n",
      "PYTHON\n",
      "hello python\n",
      "Hello python\n"
     ]
    }
   ],
   "source": [
    "# 3. String\n",
    "text = \"python\"\n",
    "print(type(text))\n",
    "\n",
    "# 3.1 string concatenation \n",
    "\n",
    "text_concat = \"HELLO \" + text\n",
    "print(text_concat)\n",
    "\n",
    "# 3.2 string split() and join()\n",
    "\n",
    "print(text_concat.split())\n",
    "\n",
    "print(\", \".join(text))\n",
    "\n",
    "# 3.3 substring \n",
    "\n",
    "print(text[:])\n",
    "print(text[:2])\n",
    "\n",
    "# 3.4 string change case to lower and upper case\n",
    "\n",
    "print(text.upper())\n",
    "print(text_concat.lower())\n",
    "print(text_concat.capitalize())\n"
   ]
  },
  {
   "cell_type": "code",
   "execution_count": 8,
   "metadata": {},
   "outputs": [
    {
     "name": "stdout",
     "output_type": "stream",
     "text": [
      "answer = 30.304347826086953 type : <class 'float'>\n"
     ]
    }
   ],
   "source": [
    "# 4. arithmetic operators and expression\n",
    "\n",
    "answer = 45 + 76 / 23 - 9 * 2\n",
    "print(\"answer = {0} type : {1}\".format(answer, type(answer)))"
   ]
  }
 ],
 "metadata": {
  "kernelspec": {
   "display_name": "Python 3",
   "language": "python",
   "name": "python3"
  },
  "language_info": {
   "codemirror_mode": {
    "name": "ipython",
    "version": 3
   },
   "file_extension": ".py",
   "mimetype": "text/x-python",
   "name": "python",
   "nbconvert_exporter": "python",
   "pygments_lexer": "ipython3",
   "version": "3.7.4"
  }
 },
 "nbformat": 4,
 "nbformat_minor": 4
}
